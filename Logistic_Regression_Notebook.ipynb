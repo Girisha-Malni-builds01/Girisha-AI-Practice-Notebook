{
  "nbformat": 4,
  "nbformat_minor": 0,
  "metadata": {
    "colab": {
      "provenance": [],
      "authorship_tag": "ABX9TyOEXQLHlZ3qBL1+fH1tF8nt",
      "include_colab_link": true
    },
    "kernelspec": {
      "name": "python3",
      "display_name": "Python 3"
    },
    "language_info": {
      "name": "python"
    }
  },
  "cells": [
    {
      "cell_type": "markdown",
      "metadata": {
        "id": "view-in-github",
        "colab_type": "text"
      },
      "source": [
        "<a href=\"https://colab.research.google.com/github/Girisha-Malni-builds01/AI-Placement-Practice-Notebook/blob/Supervised-AI-Algorithms/Logistic_Regression_Notebook.ipynb\" target=\"_parent\"><img src=\"https://colab.research.google.com/assets/colab-badge.svg\" alt=\"Open In Colab\"/></a>"
      ]
    },
    {
      "cell_type": "markdown",
      "source": [
        "# **Logistic Regression from Scratch**"
      ],
      "metadata": {
        "id": "rYaLAYQUeHgq"
      }
    },
    {
      "cell_type": "code",
      "source": [
        "import numpy as np\n",
        "import matplotlib.pyplot as plt\n",
        "from sklearn.model_selection import train_test_split\n",
        "from sklearn.linear_model import LogisticRegression\n",
        "from sklearn.metrics import classification_report\n",
        "\n",
        "# Step 1: Create dataset (Hours studied vs Pass/Fail)\n",
        "np.random.seed(42)\n",
        "hours_studied = np.random.randint(1, 10, 30)\n",
        "passed = (hours_studied + np.random.randn(30)) > 5\n",
        "passed = passed.astype(int)\n",
        "\n",
        "X = hours_studied.reshape(-1, 1)\n",
        "y = passed\n",
        "\n",
        "# Step 2: Train-test split\n",
        "X_train, X_test, y_train, y_test = train_test_split(X, y, test_size=0.3, random_state=42)\n",
        "\n",
        "# Step 3: Train Logistic Regression\n",
        "model = LogisticRegression()\n",
        "model.fit(X_train, y_train)\n",
        "\n",
        "# Step 4: Predictions\n",
        "y_pred = model.predict(X_test)\n",
        "print(\"Classification Report:\\n\", classification_report(y_test, y_pred))\n",
        "\n",
        "# Step 5: Visualization\n",
        "X_range = np.linspace(X.min(), X.max(), 300).reshape(-1,1)\n",
        "y_prob = model.predict_proba(X_range)[:,1]\n",
        "\n",
        "plt.scatter(X, y, c=y, cmap=\"bwr\", edgecolor=\"k\")\n",
        "plt.plot(X_range, y_prob, color=\"black\", linewidth=2)\n",
        "plt.xlabel(\"Hours Studied\")\n",
        "plt.ylabel(\"Pass Probability\")\n",
        "plt.title(\"Logistic Regression - Pass/Fail Prediction\")\n",
        "plt.show()\n"
      ],
      "metadata": {
        "id": "zScHksyzagM-"
      },
      "execution_count": null,
      "outputs": []
    }
  ]
}