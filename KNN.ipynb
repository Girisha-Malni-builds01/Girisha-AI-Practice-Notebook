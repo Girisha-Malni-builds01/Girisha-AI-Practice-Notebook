{
  "nbformat": 4,
  "nbformat_minor": 0,
  "metadata": {
    "colab": {
      "provenance": [],
      "authorship_tag": "ABX9TyN3ahq3/E3CM6j7yeWLSoAG",
      "include_colab_link": true
    },
    "kernelspec": {
      "name": "python3",
      "display_name": "Python 3"
    },
    "language_info": {
      "name": "python"
    }
  },
  "cells": [
    {
      "cell_type": "markdown",
      "metadata": {
        "id": "view-in-github",
        "colab_type": "text"
      },
      "source": [
        "<a href=\"https://colab.research.google.com/github/Girisha-Malni-builds01/Girisha-AI-Practice-Notebook/blob/Supervised-AI-Algorithms/KNN.ipynb\" target=\"_parent\"><img src=\"https://colab.research.google.com/assets/colab-badge.svg\" alt=\"Open In Colab\"/></a>"
      ]
    },
    {
      "cell_type": "code",
      "execution_count": 1,
      "metadata": {
        "id": "IJH5bSOaHUeN"
      },
      "outputs": [],
      "source": [
        "# @title Setup\n",
        "import numpy as np\n",
        "import pandas as pd\n",
        "import matplotlib.pyplot as plt\n",
        "\n",
        "from sklearn.model_selection import train_test_split\n",
        "from sklearn.metrics import mean_squared_error, r2_score, accuracy_score, log_loss, roc_auc_score\n",
        "from sklearn.datasets import fetch_california_housing, make_classification\n",
        "from sklearn.inspection import PartialDependenceDisplay\n",
        "from sklearn.ensemble import GradientBoostingRegressor, GradientBoostingClassifier\n",
        "\n",
        "np.random.seed(42)\n",
        "\n",
        "def plot_learning_curve(xs, train_metric, val_metric, xlabel, title):\n",
        "    plt.figure()\n",
        "    plt.plot(xs, train_metric, marker=\"o\", label=\"train\")\n",
        "    plt.plot(xs, val_metric, marker=\"o\", label=\"valid\")\n",
        "    plt.xlabel(xlabel); plt.ylabel(\"metric\"); plt.title(title); plt.legend(); plt.grid(True)\n",
        "    plt.show()\n",
        "\n",
        "def heatmap(Z, xticks, yticks, xlabel, ylabel, title):\n",
        "    plt.figure()\n",
        "    im = plt.imshow(Z, aspect=\"auto\", origin=\"lower\")\n",
        "    plt.colorbar(im)\n",
        "    plt.xticks(ticks=np.arange(len(xticks)), labels=[str(x) for x in xticks], rotation=0)\n",
        "    plt.yticks(ticks=np.arange(len(yticks)), labels=[str(y) for y in yticks])\n",
        "    plt.xlabel(xlabel); plt.ylabel(ylabel); plt.title(title)\n",
        "    plt.show()\n",
        "\n",
        "def describe_split(X, y, name=\"\"):\n",
        "    n = len(y)\n",
        "    pos = np.mean(y) if set(np.unique(y)) <= {0,1} else None\n",
        "    print(f\"{name} shape={X.shape}, n={n}\", (f\", positive_rate={pos:.3f}\" if pos is not None else \"\"))\n"
      ]
    },
    {
      "cell_type": "code",
      "source": [
        "# @title Regression data\n",
        "data = fetch_california_housing(as_frame=True)\n",
        "X_reg = data.data\n",
        "y_reg = data.target  # median house value (in 100k USD)\n",
        "\n",
        "Xtr, Xte, ytr, yte = train_test_split(X_reg, y_reg, test_size=0.25, random_state=42)\n",
        "describe_split(Xtr, ytr, \"Train (reg)\")\n",
        "describe_split(Xte, yte, \"Test (reg)\")\n"
      ],
      "metadata": {
        "colab": {
          "base_uri": "https://localhost:8080/"
        },
        "id": "LQ8ijqY0Iqyp",
        "outputId": "10d5e753-6edf-4c6d-ea21-c5c115b6bbcd"
      },
      "execution_count": 2,
      "outputs": [
        {
          "output_type": "stream",
          "name": "stdout",
          "text": [
            "Train (reg) shape=(15480, 8), n=15480 \n",
            "Test (reg) shape=(5160, 8), n=5160 \n"
          ]
        }
      ]
    },
    {
      "cell_type": "code",
      "source": [
        "# @title Good baseline regressor\n",
        "gbr_good = GradientBoostingRegressor(\n",
        "    loss=\"squared_error\",\n",
        "    learning_rate=0.05,   # small ν\n",
        "    n_estimators=1200,    # more trees\n",
        "    max_depth=3,          # shallow trees\n",
        "    subsample=0.7,        # stochastic gradient boosting\n",
        "    random_state=42\n",
        ")\n",
        "gbr_good.fit(Xtr, ytr)\n",
        "\n",
        "pred_tr = gbr_good.predict(Xtr)\n",
        "pred_te = gbr_good.predict(Xte)\n",
        "\n",
        "rmse_tr = mean_squared_error(ytr, pred_tr, squared=False)\n",
        "rmse_te = mean_squared_error(yte, pred_te, squared=False)\n",
        "r2_tr   = r2_score(ytr, pred_tr)\n",
        "r2_te   = r2_score(yte, pred_te)\n",
        "\n",
        "print(f\"Good baseline → RMSE train={rmse_tr:.3f}, test={rmse_te:.3f} | R2 train={r2_tr:.3f}, test={r2_te:.3f}\")\n"
      ],
      "metadata": {
        "colab": {
          "base_uri": "https://localhost:8080/",
          "height": 365
        },
        "id": "Mcz3ZNQOIusJ",
        "outputId": "a77b1a68-432b-4500-da1a-728d4fa90352"
      },
      "execution_count": 3,
      "outputs": [
        {
          "output_type": "error",
          "ename": "TypeError",
          "evalue": "got an unexpected keyword argument 'squared'",
          "traceback": [
            "\u001b[0;31m---------------------------------------------------------------------------\u001b[0m",
            "\u001b[0;31mTypeError\u001b[0m                                 Traceback (most recent call last)",
            "\u001b[0;32m/tmp/ipython-input-307977865.py\u001b[0m in \u001b[0;36m<cell line: 0>\u001b[0;34m()\u001b[0m\n\u001b[1;32m     13\u001b[0m \u001b[0mpred_te\u001b[0m \u001b[0;34m=\u001b[0m \u001b[0mgbr_good\u001b[0m\u001b[0;34m.\u001b[0m\u001b[0mpredict\u001b[0m\u001b[0;34m(\u001b[0m\u001b[0mXte\u001b[0m\u001b[0;34m)\u001b[0m\u001b[0;34m\u001b[0m\u001b[0;34m\u001b[0m\u001b[0m\n\u001b[1;32m     14\u001b[0m \u001b[0;34m\u001b[0m\u001b[0m\n\u001b[0;32m---> 15\u001b[0;31m \u001b[0mrmse_tr\u001b[0m \u001b[0;34m=\u001b[0m \u001b[0mmean_squared_error\u001b[0m\u001b[0;34m(\u001b[0m\u001b[0mytr\u001b[0m\u001b[0;34m,\u001b[0m \u001b[0mpred_tr\u001b[0m\u001b[0;34m,\u001b[0m \u001b[0msquared\u001b[0m\u001b[0;34m=\u001b[0m\u001b[0;32mFalse\u001b[0m\u001b[0;34m)\u001b[0m\u001b[0;34m\u001b[0m\u001b[0;34m\u001b[0m\u001b[0m\n\u001b[0m\u001b[1;32m     16\u001b[0m \u001b[0mrmse_te\u001b[0m \u001b[0;34m=\u001b[0m \u001b[0mmean_squared_error\u001b[0m\u001b[0;34m(\u001b[0m\u001b[0myte\u001b[0m\u001b[0;34m,\u001b[0m \u001b[0mpred_te\u001b[0m\u001b[0;34m,\u001b[0m \u001b[0msquared\u001b[0m\u001b[0;34m=\u001b[0m\u001b[0;32mFalse\u001b[0m\u001b[0;34m)\u001b[0m\u001b[0;34m\u001b[0m\u001b[0;34m\u001b[0m\u001b[0m\n\u001b[1;32m     17\u001b[0m \u001b[0mr2_tr\u001b[0m   \u001b[0;34m=\u001b[0m \u001b[0mr2_score\u001b[0m\u001b[0;34m(\u001b[0m\u001b[0mytr\u001b[0m\u001b[0;34m,\u001b[0m \u001b[0mpred_tr\u001b[0m\u001b[0;34m)\u001b[0m\u001b[0;34m\u001b[0m\u001b[0;34m\u001b[0m\u001b[0m\n",
            "\u001b[0;32m/usr/local/lib/python3.12/dist-packages/sklearn/utils/_param_validation.py\u001b[0m in \u001b[0;36mwrapper\u001b[0;34m(*args, **kwargs)\u001b[0m\n\u001b[1;32m    192\u001b[0m \u001b[0;34m\u001b[0m\u001b[0m\n\u001b[1;32m    193\u001b[0m             \u001b[0;31m# Map *args/**kwargs to the function signature\u001b[0m\u001b[0;34m\u001b[0m\u001b[0;34m\u001b[0m\u001b[0m\n\u001b[0;32m--> 194\u001b[0;31m             \u001b[0mparams\u001b[0m \u001b[0;34m=\u001b[0m \u001b[0mfunc_sig\u001b[0m\u001b[0;34m.\u001b[0m\u001b[0mbind\u001b[0m\u001b[0;34m(\u001b[0m\u001b[0;34m*\u001b[0m\u001b[0margs\u001b[0m\u001b[0;34m,\u001b[0m \u001b[0;34m**\u001b[0m\u001b[0mkwargs\u001b[0m\u001b[0;34m)\u001b[0m\u001b[0;34m\u001b[0m\u001b[0;34m\u001b[0m\u001b[0m\n\u001b[0m\u001b[1;32m    195\u001b[0m             \u001b[0mparams\u001b[0m\u001b[0;34m.\u001b[0m\u001b[0mapply_defaults\u001b[0m\u001b[0;34m(\u001b[0m\u001b[0;34m)\u001b[0m\u001b[0;34m\u001b[0m\u001b[0;34m\u001b[0m\u001b[0m\n\u001b[1;32m    196\u001b[0m \u001b[0;34m\u001b[0m\u001b[0m\n",
            "\u001b[0;32m/usr/lib/python3.12/inspect.py\u001b[0m in \u001b[0;36mbind\u001b[0;34m(self, *args, **kwargs)\u001b[0m\n\u001b[1;32m   3278\u001b[0m         \u001b[0;32mif\u001b[0m \u001b[0mthe\u001b[0m \u001b[0mpassed\u001b[0m \u001b[0marguments\u001b[0m \u001b[0mcan\u001b[0m \u001b[0;32mnot\u001b[0m \u001b[0mbe\u001b[0m \u001b[0mbound\u001b[0m\u001b[0;34m.\u001b[0m\u001b[0;34m\u001b[0m\u001b[0;34m\u001b[0m\u001b[0m\n\u001b[1;32m   3279\u001b[0m         \"\"\"\n\u001b[0;32m-> 3280\u001b[0;31m         \u001b[0;32mreturn\u001b[0m \u001b[0mself\u001b[0m\u001b[0;34m.\u001b[0m\u001b[0m_bind\u001b[0m\u001b[0;34m(\u001b[0m\u001b[0margs\u001b[0m\u001b[0;34m,\u001b[0m \u001b[0mkwargs\u001b[0m\u001b[0;34m)\u001b[0m\u001b[0;34m\u001b[0m\u001b[0;34m\u001b[0m\u001b[0m\n\u001b[0m\u001b[1;32m   3281\u001b[0m \u001b[0;34m\u001b[0m\u001b[0m\n\u001b[1;32m   3282\u001b[0m     \u001b[0;32mdef\u001b[0m \u001b[0mbind_partial\u001b[0m\u001b[0;34m(\u001b[0m\u001b[0mself\u001b[0m\u001b[0;34m,\u001b[0m \u001b[0;34m/\u001b[0m\u001b[0;34m,\u001b[0m \u001b[0;34m*\u001b[0m\u001b[0margs\u001b[0m\u001b[0;34m,\u001b[0m \u001b[0;34m**\u001b[0m\u001b[0mkwargs\u001b[0m\u001b[0;34m)\u001b[0m\u001b[0;34m:\u001b[0m\u001b[0;34m\u001b[0m\u001b[0;34m\u001b[0m\u001b[0m\n",
            "\u001b[0;32m/usr/lib/python3.12/inspect.py\u001b[0m in \u001b[0;36m_bind\u001b[0;34m(self, args, kwargs, partial)\u001b[0m\n\u001b[1;32m   3267\u001b[0m                 )\n\u001b[1;32m   3268\u001b[0m             \u001b[0;32melse\u001b[0m\u001b[0;34m:\u001b[0m\u001b[0;34m\u001b[0m\u001b[0;34m\u001b[0m\u001b[0m\n\u001b[0;32m-> 3269\u001b[0;31m                 raise TypeError(\n\u001b[0m\u001b[1;32m   3270\u001b[0m                     'got an unexpected keyword argument {arg!r}'.format(\n\u001b[1;32m   3271\u001b[0m                         arg=next(iter(kwargs))))\n",
            "\u001b[0;31mTypeError\u001b[0m: got an unexpected keyword argument 'squared'"
          ]
        }
      ]
    },
    {
      "cell_type": "code",
      "source": [
        "# @title Bad hyperparameters to show overfitting\n",
        "gbr_bad = GradientBoostingRegressor(\n",
        "    learning_rate=0.5,    # too large\n",
        "    n_estimators=100,     # too few\n",
        "    max_depth=8,          # too deep\n",
        "    subsample=1.0,        # no stochasticity\n",
        "    random_state=42\n",
        ")\n",
        "gbr_bad.fit(Xtr, ytr)\n",
        "\n",
        "pred_tr_b = gbr_bad.predict(Xtr)\n",
        "pred_te_b = gbr_bad.predict(Xte)\n",
        "\n",
        "rmse_tr_b = mean_squared_error(ytr, pred_tr_b, squared=False)\n",
        "rmse_te_b = mean_squared_error(yte, pred_te_b, squared=False)\n",
        "r2_tr_b   = r2_score(ytr, pred_tr_b)\n",
        "r2_te_b   = r2_score(yte, pred_te_b)\n",
        "\n",
        "print(f\"Bad setup → RMSE train={rmse_tr_b:.3f}, test={rmse_te_b:.3f} | R2 train={r2_tr_b:.3f}, test={r2_te_b:.3f}\")\n"
      ],
      "metadata": {
        "colab": {
          "base_uri": "https://localhost:8080/",
          "height": 365
        },
        "id": "v80l7UBUIxtp",
        "outputId": "5cfceeed-14a0-4b66-f655-02d4e019c91a"
      },
      "execution_count": 4,
      "outputs": [
        {
          "output_type": "error",
          "ename": "KeyboardInterrupt",
          "evalue": "",
          "traceback": [
            "\u001b[0;31m---------------------------------------------------------------------------\u001b[0m",
            "\u001b[0;31mKeyboardInterrupt\u001b[0m                         Traceback (most recent call last)",
            "\u001b[0;32m/tmp/ipython-input-2174965470.py\u001b[0m in \u001b[0;36m<cell line: 0>\u001b[0;34m()\u001b[0m\n\u001b[1;32m      7\u001b[0m     \u001b[0mrandom_state\u001b[0m\u001b[0;34m=\u001b[0m\u001b[0;36m42\u001b[0m\u001b[0;34m\u001b[0m\u001b[0;34m\u001b[0m\u001b[0m\n\u001b[1;32m      8\u001b[0m )\n\u001b[0;32m----> 9\u001b[0;31m \u001b[0mgbr_bad\u001b[0m\u001b[0;34m.\u001b[0m\u001b[0mfit\u001b[0m\u001b[0;34m(\u001b[0m\u001b[0mXtr\u001b[0m\u001b[0;34m,\u001b[0m \u001b[0mytr\u001b[0m\u001b[0;34m)\u001b[0m\u001b[0;34m\u001b[0m\u001b[0;34m\u001b[0m\u001b[0m\n\u001b[0m\u001b[1;32m     10\u001b[0m \u001b[0;34m\u001b[0m\u001b[0m\n\u001b[1;32m     11\u001b[0m \u001b[0mpred_tr_b\u001b[0m \u001b[0;34m=\u001b[0m \u001b[0mgbr_bad\u001b[0m\u001b[0;34m.\u001b[0m\u001b[0mpredict\u001b[0m\u001b[0;34m(\u001b[0m\u001b[0mXtr\u001b[0m\u001b[0;34m)\u001b[0m\u001b[0;34m\u001b[0m\u001b[0;34m\u001b[0m\u001b[0m\n",
            "\u001b[0;32m/usr/local/lib/python3.12/dist-packages/sklearn/base.py\u001b[0m in \u001b[0;36mwrapper\u001b[0;34m(estimator, *args, **kwargs)\u001b[0m\n\u001b[1;32m   1387\u001b[0m                 )\n\u001b[1;32m   1388\u001b[0m             ):\n\u001b[0;32m-> 1389\u001b[0;31m                 \u001b[0;32mreturn\u001b[0m \u001b[0mfit_method\u001b[0m\u001b[0;34m(\u001b[0m\u001b[0mestimator\u001b[0m\u001b[0;34m,\u001b[0m \u001b[0;34m*\u001b[0m\u001b[0margs\u001b[0m\u001b[0;34m,\u001b[0m \u001b[0;34m**\u001b[0m\u001b[0mkwargs\u001b[0m\u001b[0;34m)\u001b[0m\u001b[0;34m\u001b[0m\u001b[0;34m\u001b[0m\u001b[0m\n\u001b[0m\u001b[1;32m   1390\u001b[0m \u001b[0;34m\u001b[0m\u001b[0m\n\u001b[1;32m   1391\u001b[0m         \u001b[0;32mreturn\u001b[0m \u001b[0mwrapper\u001b[0m\u001b[0;34m\u001b[0m\u001b[0;34m\u001b[0m\u001b[0m\n",
            "\u001b[0;32m/usr/local/lib/python3.12/dist-packages/sklearn/ensemble/_gb.py\u001b[0m in \u001b[0;36mfit\u001b[0;34m(self, X, y, sample_weight, monitor)\u001b[0m\n\u001b[1;32m    785\u001b[0m \u001b[0;34m\u001b[0m\u001b[0m\n\u001b[1;32m    786\u001b[0m         \u001b[0;31m# fit the boosting stages\u001b[0m\u001b[0;34m\u001b[0m\u001b[0;34m\u001b[0m\u001b[0m\n\u001b[0;32m--> 787\u001b[0;31m         n_stages = self._fit_stages(\n\u001b[0m\u001b[1;32m    788\u001b[0m             \u001b[0mX_train\u001b[0m\u001b[0;34m,\u001b[0m\u001b[0;34m\u001b[0m\u001b[0;34m\u001b[0m\u001b[0m\n\u001b[1;32m    789\u001b[0m             \u001b[0my_train\u001b[0m\u001b[0;34m,\u001b[0m\u001b[0;34m\u001b[0m\u001b[0;34m\u001b[0m\u001b[0m\n",
            "\u001b[0;32m/usr/local/lib/python3.12/dist-packages/sklearn/ensemble/_gb.py\u001b[0m in \u001b[0;36m_fit_stages\u001b[0;34m(self, X, y, raw_predictions, sample_weight, random_state, X_val, y_val, sample_weight_val, begin_at_stage, monitor)\u001b[0m\n\u001b[1;32m    881\u001b[0m \u001b[0;34m\u001b[0m\u001b[0m\n\u001b[1;32m    882\u001b[0m             \u001b[0;31m# fit next stage of trees\u001b[0m\u001b[0;34m\u001b[0m\u001b[0;34m\u001b[0m\u001b[0m\n\u001b[0;32m--> 883\u001b[0;31m             raw_predictions = self._fit_stage(\n\u001b[0m\u001b[1;32m    884\u001b[0m                 \u001b[0mi\u001b[0m\u001b[0;34m,\u001b[0m\u001b[0;34m\u001b[0m\u001b[0;34m\u001b[0m\u001b[0m\n\u001b[1;32m    885\u001b[0m                 \u001b[0mX\u001b[0m\u001b[0;34m,\u001b[0m\u001b[0;34m\u001b[0m\u001b[0;34m\u001b[0m\u001b[0m\n",
            "\u001b[0;32m/usr/local/lib/python3.12/dist-packages/sklearn/ensemble/_gb.py\u001b[0m in \u001b[0;36m_fit_stage\u001b[0;34m(self, i, X, y, raw_predictions, sample_weight, sample_mask, random_state, X_csc, X_csr)\u001b[0m\n\u001b[1;32m    487\u001b[0m \u001b[0;34m\u001b[0m\u001b[0m\n\u001b[1;32m    488\u001b[0m             \u001b[0mX\u001b[0m \u001b[0;34m=\u001b[0m \u001b[0mX_csc\u001b[0m \u001b[0;32mif\u001b[0m \u001b[0mX_csc\u001b[0m \u001b[0;32mis\u001b[0m \u001b[0;32mnot\u001b[0m \u001b[0;32mNone\u001b[0m \u001b[0;32melse\u001b[0m \u001b[0mX\u001b[0m\u001b[0;34m\u001b[0m\u001b[0;34m\u001b[0m\u001b[0m\n\u001b[0;32m--> 489\u001b[0;31m             tree.fit(\n\u001b[0m\u001b[1;32m    490\u001b[0m                 \u001b[0mX\u001b[0m\u001b[0;34m,\u001b[0m \u001b[0mneg_g_view\u001b[0m\u001b[0;34m[\u001b[0m\u001b[0;34m:\u001b[0m\u001b[0;34m,\u001b[0m \u001b[0mk\u001b[0m\u001b[0;34m]\u001b[0m\u001b[0;34m,\u001b[0m \u001b[0msample_weight\u001b[0m\u001b[0;34m=\u001b[0m\u001b[0msample_weight\u001b[0m\u001b[0;34m,\u001b[0m \u001b[0mcheck_input\u001b[0m\u001b[0;34m=\u001b[0m\u001b[0;32mFalse\u001b[0m\u001b[0;34m\u001b[0m\u001b[0;34m\u001b[0m\u001b[0m\n\u001b[1;32m    491\u001b[0m             )\n",
            "\u001b[0;32m/usr/local/lib/python3.12/dist-packages/sklearn/base.py\u001b[0m in \u001b[0;36mwrapper\u001b[0;34m(estimator, *args, **kwargs)\u001b[0m\n\u001b[1;32m   1387\u001b[0m                 )\n\u001b[1;32m   1388\u001b[0m             ):\n\u001b[0;32m-> 1389\u001b[0;31m                 \u001b[0;32mreturn\u001b[0m \u001b[0mfit_method\u001b[0m\u001b[0;34m(\u001b[0m\u001b[0mestimator\u001b[0m\u001b[0;34m,\u001b[0m \u001b[0;34m*\u001b[0m\u001b[0margs\u001b[0m\u001b[0;34m,\u001b[0m \u001b[0;34m**\u001b[0m\u001b[0mkwargs\u001b[0m\u001b[0;34m)\u001b[0m\u001b[0;34m\u001b[0m\u001b[0;34m\u001b[0m\u001b[0m\n\u001b[0m\u001b[1;32m   1390\u001b[0m \u001b[0;34m\u001b[0m\u001b[0m\n\u001b[1;32m   1391\u001b[0m         \u001b[0;32mreturn\u001b[0m \u001b[0mwrapper\u001b[0m\u001b[0;34m\u001b[0m\u001b[0;34m\u001b[0m\u001b[0m\n",
            "\u001b[0;32m/usr/local/lib/python3.12/dist-packages/sklearn/tree/_classes.py\u001b[0m in \u001b[0;36mfit\u001b[0;34m(self, X, y, sample_weight, check_input)\u001b[0m\n\u001b[1;32m   1402\u001b[0m         \"\"\"\n\u001b[1;32m   1403\u001b[0m \u001b[0;34m\u001b[0m\u001b[0m\n\u001b[0;32m-> 1404\u001b[0;31m         super()._fit(\n\u001b[0m\u001b[1;32m   1405\u001b[0m             \u001b[0mX\u001b[0m\u001b[0;34m,\u001b[0m\u001b[0;34m\u001b[0m\u001b[0;34m\u001b[0m\u001b[0m\n\u001b[1;32m   1406\u001b[0m             \u001b[0my\u001b[0m\u001b[0;34m,\u001b[0m\u001b[0;34m\u001b[0m\u001b[0;34m\u001b[0m\u001b[0m\n",
            "\u001b[0;32m/usr/local/lib/python3.12/dist-packages/sklearn/tree/_classes.py\u001b[0m in \u001b[0;36m_fit\u001b[0;34m(self, X, y, sample_weight, check_input, missing_values_in_feature_mask)\u001b[0m\n\u001b[1;32m    470\u001b[0m             )\n\u001b[1;32m    471\u001b[0m \u001b[0;34m\u001b[0m\u001b[0m\n\u001b[0;32m--> 472\u001b[0;31m         \u001b[0mbuilder\u001b[0m\u001b[0;34m.\u001b[0m\u001b[0mbuild\u001b[0m\u001b[0;34m(\u001b[0m\u001b[0mself\u001b[0m\u001b[0;34m.\u001b[0m\u001b[0mtree_\u001b[0m\u001b[0;34m,\u001b[0m \u001b[0mX\u001b[0m\u001b[0;34m,\u001b[0m \u001b[0my\u001b[0m\u001b[0;34m,\u001b[0m \u001b[0msample_weight\u001b[0m\u001b[0;34m,\u001b[0m \u001b[0mmissing_values_in_feature_mask\u001b[0m\u001b[0;34m)\u001b[0m\u001b[0;34m\u001b[0m\u001b[0;34m\u001b[0m\u001b[0m\n\u001b[0m\u001b[1;32m    473\u001b[0m \u001b[0;34m\u001b[0m\u001b[0m\n\u001b[1;32m    474\u001b[0m         \u001b[0;32mif\u001b[0m \u001b[0mself\u001b[0m\u001b[0;34m.\u001b[0m\u001b[0mn_outputs_\u001b[0m \u001b[0;34m==\u001b[0m \u001b[0;36m1\u001b[0m \u001b[0;32mand\u001b[0m \u001b[0mis_classifier\u001b[0m\u001b[0;34m(\u001b[0m\u001b[0mself\u001b[0m\u001b[0;34m)\u001b[0m\u001b[0;34m:\u001b[0m\u001b[0;34m\u001b[0m\u001b[0;34m\u001b[0m\u001b[0m\n",
            "\u001b[0;31mKeyboardInterrupt\u001b[0m: "
          ]
        }
      ]
    },
    {
      "cell_type": "code",
      "source": [
        "# @title Parallel experiment: heatmap (lower RMSE is better)\n",
        "lrs = [0.01, 0.05, 0.1, 0.2]\n",
        "Ns  = [200, 400, 800, 1200]\n",
        "Z = np.zeros((len(lrs), len(Ns)))\n",
        "\n",
        "for i, lr in enumerate(lrs):\n",
        "    for j, N in enumerate(Ns):\n",
        "        mdl = GradientBoostingRegressor(\n",
        "            learning_rate=lr, n_estimators=N, max_depth=3, subsample=0.7, random_state=42\n",
        "        ).fit(Xtr, ytr)\n",
        "        Z[i, j] = mean_squared_error(yte, mdl.predict(Xte), squared=False)\n",
        "\n",
        "heatmap(Z, Ns, lrs, xlabel=\"n_estimators\", ylabel=\"learning_rate\", title=\"Test RMSE heatmap (regression)\")\n"
      ],
      "metadata": {
        "id": "9CWvYzRFI0PD"
      },
      "execution_count": null,
      "outputs": []
    },
    {
      "cell_type": "code",
      "source": [
        "# @title Learning curves over boosting rounds\n",
        "gbr_curve = GradientBoostingRegressor(\n",
        "    learning_rate=0.05, n_estimators=1500, max_depth=3, subsample=0.7, random_state=42\n",
        ").fit(Xtr, ytr)\n",
        "\n",
        "train_rmse, val_rmse = [], []\n",
        "for yhat_tr, yhat_te in zip(gbr_curve.staged_predict(Xtr), gbr_curve.staged_predict(Xte)):\n",
        "    train_rmse.append(mean_squared_error(ytr, yhat_tr, squared=False))\n",
        "    val_rmse.append(mean_squared_error(yte, yhat_te, squared=False))\n",
        "\n",
        "plot_learning_curve(\n",
        "    np.arange(1, len(train_rmse)+1),\n",
        "    train_rmse, val_rmse,\n",
        "    xlabel=\"n_estimators\", title=\"RMSE vs. boosting rounds (regression)\"\n",
        ")\n",
        "\n",
        "best_round = int(np.argmin(val_rmse) + 1)\n",
        "print(\"Early stopping suggestion → best n_estimators:\", best_round)\n"
      ],
      "metadata": {
        "id": "s0ZsKNLfI34b"
      },
      "execution_count": null,
      "outputs": []
    },
    {
      "cell_type": "code",
      "source": [
        "# @title Feature importance and PDPs\n",
        "imp = pd.Series(gbr_good.feature_importances_, index=X_reg.columns).sort_values(ascending=False)\n",
        "print(imp.head(10))\n",
        "\n",
        "plt.figure(); imp.plot(kind=\"bar\"); plt.title(\"Feature importance (GBR)\"); plt.tight_layout(); plt.show()\n",
        "\n",
        "features_to_plot = [imp.index[0], imp.index[1]]\n",
        "PartialDependenceDisplay.from_estimator(gbr_good, X_reg, features_to_plot)\n",
        "plt.show()\n"
      ],
      "metadata": {
        "id": "Jh_I9NNnI4u1"
      },
      "execution_count": null,
      "outputs": []
    },
    {
      "cell_type": "code",
      "source": [
        "# @title Classification data\n",
        "X_cls, y_cls = make_classification(\n",
        "    n_samples=20000, n_features=20, n_informative=8, n_redundant=4,\n",
        "    class_sep=1.2, weights=[0.6, 0.4], random_state=42\n",
        ")\n",
        "Xtrc, Xtec, ytrc, ytec = train_test_split(X_cls, y_cls, test_size=0.25, random_state=42, stratify=y_cls)\n",
        "describe_split(Xtrc, ytrc, \"Train (cls)\")\n",
        "describe_split(Xtec, ytec, \"Test (cls)\")\n"
      ],
      "metadata": {
        "id": "xdw6fKKtI9Qb"
      },
      "execution_count": null,
      "outputs": []
    },
    {
      "cell_type": "code",
      "source": [
        "# @title Good baseline classifier\n",
        "gbc_good = GradientBoostingClassifier(\n",
        "    learning_rate=0.05, n_estimators=800, max_depth=3, subsample=0.7, random_state=42\n",
        ").fit(Xtrc, ytrc)\n",
        "\n",
        "proba_tr = gbc_good.predict_proba(Xtrc)[:,1]\n",
        "proba_te = gbc_good.predict_proba(Xtec)[:,1]\n",
        "\n",
        "acc_tr = accuracy_score(ytrc, (proba_tr>0.5).astype(int))\n",
        "acc_te = accuracy_score(ytec, (proba_te>0.5).astype(int))\n",
        "ll_tr  = log_loss(ytrc, proba_tr)\n",
        "ll_te  = log_loss(ytec, proba_te)\n",
        "auc_tr = roc_auc_score(ytrc, proba_tr)\n",
        "auc_te = roc_auc_score(ytec, proba_te)\n",
        "\n",
        "print(f\"Good baseline → acc train={acc_tr:.3f}, test={acc_te:.3f} | logloss train={ll_tr:.3f}, test={ll_te:.3f} | AUC train={auc_tr:.3f}, test={auc_te:.3f}\")\n"
      ],
      "metadata": {
        "id": "-37t1l3EJAJ3"
      },
      "execution_count": null,
      "outputs": []
    },
    {
      "cell_type": "code",
      "source": [
        "# @title Parallel experiment: heatmap (lower logloss is better)\n",
        "lrs = [0.01, 0.05, 0.1, 0.2]\n",
        "Ns  = [200, 400, 800, 1200]\n",
        "Z = np.zeros((len(lrs), len(Ns)))\n",
        "\n",
        "for i, lr in enumerate(lrs):\n",
        "    for j, N in enumerate(Ns):\n",
        "        mdl = GradientBoostingClassifier(\n",
        "            learning_rate=lr, n_estimators=N, max_depth=3, subsample=0.7, random_state=42\n",
        "        ).fit(Xtrc, ytrc)\n",
        "        Z[i, j] = log_loss(ytec, mdl.predict_proba(Xtec)[:,1])\n",
        "\n",
        "heatmap(Z, Ns, lrs, xlabel=\"n_estimators\", ylabel=\"learning_rate\", title=\"Test log loss heatmap (classification)\")\n"
      ],
      "metadata": {
        "id": "n0JntXCLJDRk"
      },
      "execution_count": null,
      "outputs": []
    },
    {
      "cell_type": "code",
      "source": [
        "# @title Learning curves over boosting rounds (classification)\n",
        "gbc_curve = GradientBoostingClassifier(\n",
        "    learning_rate=0.05, n_estimators=1500, max_depth=3, subsample=0.7, random_state=42\n",
        ").fit(Xtrc, ytrc)\n",
        "\n",
        "train_ll, val_ll = [], []\n",
        "train_auc, val_auc = [], []\n",
        "\n",
        "for proba_tr_i, proba_te_i in zip(gbc_curve.staged_predict_proba(Xtrc), gbc_curve.staged_predict_proba(Xtec)):\n",
        "    p_tr = proba_tr_i[:,1]; p_te = proba_te_i[:,1]\n",
        "    train_ll.append(log_loss(ytrc, p_tr))\n",
        "    val_ll.append(log_loss(ytec, p_te))\n",
        "    train_auc.append(roc_auc_score(ytrc, p_tr))\n",
        "    val_auc.append(roc_auc_score(ytec, p_te))\n",
        "\n",
        "plot_learning_curve(np.arange(1, len(train_ll)+1), train_ll, val_ll, \"n_estimators\", \"Log loss vs. boosting rounds (cls)\")\n",
        "plot_learning_curve(np.arange(1, len(train_auc)+1), train_auc, val_auc, \"n_estimators\", \"AUC vs. boosting rounds (cls)\")\n",
        "\n",
        "best_round_ll = int(np.argmin(val_ll) + 1)\n",
        "print(\"Early stopping suggestion (log loss) → best n_estimators:\", best_round_ll)\n"
      ],
      "metadata": {
        "id": "VCbCYjb_JFdK"
      },
      "execution_count": null,
      "outputs": []
    },
    {
      "cell_type": "code",
      "source": [
        "# @title Feature importance & PDPs (classification)\n",
        "imp_c = pd.Series(gbc_good.feature_importances_, index=[f\"f{i}\" for i in range(X_cls.shape[1])]).sort_values(ascending=False)\n",
        "print(imp_c.head(10))\n",
        "\n",
        "plt.figure(); imp_c.plot(kind=\"bar\"); plt.title(\"Feature importance (GBC)\"); plt.tight_layout(); plt.show()\n",
        "\n",
        "top2 = [int(imp_c.index[0][1:]), int(imp_c.index[1][1:])]\n",
        "PartialDependenceDisplay.from_estimator(gbc_good, X_cls, [top2[0], top2[1]])\n",
        "plt.show()\n"
      ],
      "metadata": {
        "id": "Piq-oeARJHuv"
      },
      "execution_count": null,
      "outputs": []
    }
  ]
}