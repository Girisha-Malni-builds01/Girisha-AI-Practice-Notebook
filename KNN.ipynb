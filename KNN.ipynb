{
  "nbformat": 4,
  "nbformat_minor": 0,
  "metadata": {
    "colab": {
      "provenance": [],
      "authorship_tag": "ABX9TyMd4C/tNwwqyIVtRcHJQm/r",
      "include_colab_link": true
    },
    "kernelspec": {
      "name": "python3",
      "display_name": "Python 3"
    },
    "language_info": {
      "name": "python"
    }
  },
  "cells": [
    {
      "cell_type": "markdown",
      "metadata": {
        "id": "view-in-github",
        "colab_type": "text"
      },
      "source": [
        "<a href=\"https://colab.research.google.com/github/Girisha-Malni-builds01/AI-Placement-Practice-Notebook/blob/Supervised-AI-Algorithms/KNN.ipynb\" target=\"_parent\"><img src=\"https://colab.research.google.com/assets/colab-badge.svg\" alt=\"Open In Colab\"/></a>"
      ]
    },
    {
      "cell_type": "code",
      "execution_count": 2,
      "metadata": {
        "id": "IJH5bSOaHUeN",
        "colab": {
          "base_uri": "https://localhost:8080/"
        },
        "outputId": "43025d11-4ce0-4d0e-f92d-561d8f7a0fb4"
      },
      "outputs": [
        {
          "output_type": "stream",
          "name": "stdout",
          "text": [
            "Recommendations for User 10\n",
            "     book_id                                              title\n",
            "1          2  Harry Potter and the Sorcerer's Stone (Harry P...\n",
            "3          4                              To Kill a Mockingbird\n",
            "14        15                          The Diary of a Young Girl\n",
            "20        21  Harry Potter and the Order of the Phoenix (Har...\n",
            "23        24  Harry Potter and the Goblet of Fire (Harry Pot...\n",
            "26        27  Harry Potter and the Half-Blood Prince (Harry ...\n",
            "27        28                                  Lord of the Flies\n",
            "116      117  A Wrinkle in Time (A Wrinkle in Time Quintet, #1)\n",
            "118      119                                The Handmaid's Tale\n",
            "390      391                                          The Lorax\n"
          ]
        }
      ],
      "source": [
        "import pandas as pd\n",
        "from sklearn.neighbors import NearestNeighbors\n",
        "from sklearn.model_selection import train_test_split\n",
        "from sklearn.metrics.pairwise import cosine_similarity\n",
        "\n",
        "# Step 1: Load MovieLens 100k dataset (direct from GitHub mirror)\n",
        "movies = pd.read_csv(\"https://raw.githubusercontent.com/zygmuntz/goodbooks-10k/master/books.csv\", nrows=2000)\n",
        "ratings = pd.read_csv(\"https://raw.githubusercontent.com/zygmuntz/goodbooks-10k/master/ratings.csv\", nrows=20000)\n",
        "\n",
        "# For demo: pretend these are movies instead of books\n",
        "movies = movies[['book_id','title']]\n",
        "ratings = ratings[['user_id','book_id','rating']]\n",
        "\n",
        "# Step 2: Create user-item matrix\n",
        "user_item_matrix = ratings.pivot(index='user_id', columns='book_id', values='rating').fillna(0)\n",
        "\n",
        "# Step 3: Fit KNN model (cosine similarity)\n",
        "model_knn = NearestNeighbors(metric='cosine', algorithm='brute')\n",
        "model_knn.fit(user_item_matrix)\n",
        "\n",
        "# Step 4: Pick a random user\n",
        "user_id = 10\n",
        "distances, indices = model_knn.kneighbors([user_item_matrix.loc[user_id].values], n_neighbors=6)\n",
        "\n",
        "# Step 5: Recommend movies liked by neighbors\n",
        "neighbor_ids = user_item_matrix.index[indices.flatten()]\n",
        "neighbor_ratings = ratings[ratings['user_id'].isin(neighbor_ids)]\n",
        "top_recs = neighbor_ratings.groupby('book_id').rating.mean().sort_values(ascending=False).head(10)\n",
        "recommendations = movies[movies['book_id'].isin(top_recs.index)]\n",
        "\n",
        "print(\"Recommendations for User\", user_id)\n",
        "print(recommendations)\n"
      ]
    }
  ]
}