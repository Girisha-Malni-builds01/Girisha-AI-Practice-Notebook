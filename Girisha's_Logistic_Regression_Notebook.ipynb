{
  "nbformat": 4,
  "nbformat_minor": 0,
  "metadata": {
    "colab": {
      "provenance": [],
      "authorship_tag": "ABX9TyM5zB8niABOt6SAwAQ/mRSf",
      "include_colab_link": true
    },
    "kernelspec": {
      "name": "python3",
      "display_name": "Python 3"
    },
    "language_info": {
      "name": "python"
    }
  },
  "cells": [
    {
      "cell_type": "markdown",
      "metadata": {
        "id": "view-in-github",
        "colab_type": "text"
      },
      "source": [
        "<a href=\"https://colab.research.google.com/github/Girisha-Malni-builds01/AI-Placement-Practice-Notebook/blob/Supervised-AI-Algorithms/Girisha's_Logistic_Regression_Notebook.ipynb\" target=\"_parent\"><img src=\"https://colab.research.google.com/assets/colab-badge.svg\" alt=\"Open In Colab\"/></a>"
      ]
    },
    {
      "cell_type": "markdown",
      "source": [
        "# **Logistic Regression from Scratch**"
      ],
      "metadata": {
        "id": "rYaLAYQUeHgq"
      }
    },
    {
      "cell_type": "code",
      "source": [
        "import numpy as np\n",
        "from sklearn.linear_model import LogisticRegression\n",
        "\n",
        "X = np.array([[1],[2],[3],[4],[5],[6],[7],[8],[9]])   # hours studied\n",
        "y = np.array([0,0,0,0,1,1,1,1,1])   # 0 = No (Fail), 1 = Yes (Pass)\n",
        "\n",
        "model = LogisticRegression()\n",
        "model.fit(X, y)\n",
        "\n",
        "test_hours = np.array([[2],[5],[8]])\n",
        "predictions = model.predict(test_hours)\n",
        "\n",
        "output = [\"Yes\" if p==1 else \"No\" for p in predictions]\n",
        "\n",
        "for h, o in zip(test_hours.flatten(), output):\n",
        "    print(f\"Studied {h} hours → Pass? {o}\")\n"
      ],
      "metadata": {
        "colab": {
          "base_uri": "https://localhost:8080/"
        },
        "id": "zScHksyzagM-",
        "outputId": "f7cbdab9-4f12-4bb1-a7ad-a1a421331164"
      },
      "execution_count": 2,
      "outputs": [
        {
          "output_type": "stream",
          "name": "stdout",
          "text": [
            "Studied 2 hours → Pass? No\n",
            "Studied 5 hours → Pass? Yes\n",
            "Studied 8 hours → Pass? Yes\n"
          ]
        }
      ]
    }
  ]
}